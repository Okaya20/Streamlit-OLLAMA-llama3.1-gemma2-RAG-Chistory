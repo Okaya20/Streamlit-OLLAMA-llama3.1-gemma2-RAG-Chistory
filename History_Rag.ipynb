{
 "cells": [
  {
   "cell_type": "code",
   "execution_count": 7,
   "id": "198f83d0",
   "metadata": {},
   "outputs": [
    {
     "name": "stdout",
     "output_type": "stream",
     "text": [
      "What a great question!\n",
      "\n",
      "The sky appears blue because of a phenomenon called scattering. When sunlight enters Earth's atmosphere, it encounters tiny molecules of gases such as nitrogen (N2) and oxygen (O2). These molecules scatter the light in all directions, but they scatter shorter (blue) wavelengths more than longer (red) wavelengths.\n",
      "\n",
      "This is known as Rayleigh scattering, named after the British physicist Lord Rayleigh, who first described the phenomenon in the late 19th century. The shorter blue wavelengths are scattered in every direction and reach our eyes from all parts of the sky, making it appear blue.\n",
      "\n",
      "Here's a simplified explanation:\n",
      "\n",
      "1. Sunlight enters the Earth's atmosphere.\n",
      "2. The light encounters tiny molecules of gases (N2 and O2).\n",
      "3. These molecules scatter the light in all directions.\n",
      "4. Shorter wavelengths (blue) are scattered more than longer wavelengths (red).\n",
      "5. Our eyes perceive this scattered blue light as the color we see in the sky.\n",
      "\n",
      "Other factors can affect the apparent color of the sky, such as:\n",
      "\n",
      "* Atmospheric conditions: Dust, pollution, and water vapor can scatter light differently, making the sky appear hazy or gray.\n",
      "* Time of day: During sunrise and sunset, the sun's rays have to travel longer distances through the atmosphere, scattering more blue light and making the sky appear more red.\n",
      "* Altitude and atmospheric pressure: At higher altitudes or under different atmospheric pressures, the scattering may be affected, changing the apparent color of the sky.\n",
      "\n",
      "So, to summarize, the sky appears blue because of the scattering of sunlight by tiny molecules in our atmosphere, a process known as Rayleigh scattering.\n"
     ]
    }
   ],
   "source": [
    "import requests\n",
    "\n",
    "# Define the URL and the payload\n",
    "url = 'http://localhost:11434/api/generate'\n",
    "payload = {\n",
    "    \"model\": \"llama3\",\n",
    "    \"prompt\": \"Why is the sky blue?\",\n",
    "    \"stream\": False\n",
    "}\n",
    "\n",
    "# Make a POST request\n",
    "response = requests.post(url, json=payload)\n",
    "\n",
    "# Print the response text\n",
    "print(response.json()['response'])"
   ]
  },
  {
   "cell_type": "code",
   "execution_count": 1,
   "id": "43be2e69",
   "metadata": {},
   "outputs": [],
   "source": [
    "from langchain_community.llms import Ollama\n",
    "from langchain_core.messages import HumanMessage,AIMessage\n",
    "from langchain_core.prompts import ChatPromptTemplate,MessagesPlaceholder\n",
    "from langchain_community.document_loaders import PyPDFLoader\n",
    "from langchain.prompts import PromptTemplate\n",
    "from langchain_community.embeddings import OllamaEmbeddings\n",
    "embeddings = OllamaEmbeddings(model='llama3')\n",
    "\n",
    "loader = PyPDFLoader('Thesis_Premise.pdf')\n",
    "document_contents = loader.load_and_split()\n",
    "\n",
    "model = Ollama(model = 'llama3',num_ctx = 9000,base_url ='http://localhost:11434') # change with other  /api/generate',base_url ='http://localhost:11434'\n",
    "\n",
    "chat_history = []\n",
    "\n",
    "prompt_template = ChatPromptTemplate.from_messages(\n",
    "    [\n",
    "        (\n",
    "            'system',\n",
    "            'You are an AI named okaygpt and you are working for Mercedes Benz Buses and Truck'\n",
    "        ),\n",
    "    MessagesPlaceholder(variable_name='chat_history'),\n",
    "    ('human','{input}'),\n",
    "    ]\n",
    ")\n",
    "\n",
    "\n",
    "chain = prompt_template | model\n",
    "\n",
    "def start_app():\n",
    "    message_count = 0\n",
    "    max_message = 3\n",
    "    while True and message_count <= max_message:\n",
    "        question  = input('You: ')\n",
    "        print()\n",
    "        print(f'User : {question}')\n",
    "        print()\n",
    "        if question == 'done':\n",
    "            return \n",
    "        \n",
    "        response = chain.invoke({'input':question,'chat_history':chat_history})\n",
    "        chat_history.append(HumanMessage(content=question))\n",
    "        chat_history.append(AIMessage(content = response))\n",
    "        print('AI:' + response )\n",
    "        message_count += 1\n",
    "    print('AI TERMINATED ITSELF!')\n",
    "\n",
    "\n",
    "\n"
   ]
  },
  {
   "cell_type": "markdown",
   "id": "95c68b59",
   "metadata": {},
   "source": [
    "## PDF LOADER"
   ]
  },
  {
   "cell_type": "code",
   "execution_count": 2,
   "id": "5375d1ca",
   "metadata": {},
   "outputs": [
    {
     "data": {
      "text/plain": [
       "[Document(metadata={'source': 'Thesis_Premise.pdf', 'page': 0}, page_content='Industrial Engineering Design  \\nProject Information Form  \\nProject Title  : Price Forecasting in Energy Markets  \\nGroup Members  : Emre Bozok, Ahmet Şeref Okay  \\nAdvisor  : Hüseyin Kutay Tinç  \\nCourse Code  : ☐  END4901 ☒ END4902  \\nEngineering Design Field  : ☒ Product/Service ☐ Process  \\nDesign project topic and scope : (Identification of the system and its components where the design project will be carried out, \\nexplaining where to focus within the scope of the project)  \\nEnergy markets are the markets that electricity is the main asset that  is bought or sold and it cannot be stored. \\nWhen it is generated, it should be consumed immediately. Also, the amount of electricity generated and \\nconsumed must be equal to each other. It is in a balance. There are three energy markets in Turkey, day \\nahead , intra -day, and balancing market. In the day ahead market, supply and demand information is obtained \\nand Market Clearing Price (MCP) is created. This price is the reference price for all the markets. In the intra -\\nday market, it is the market where electri city can be bought and sold for one hour after the current time. It is \\nused to make profit from the volatility of renewable energy, and avoiding the high prices in the balancing \\nmarket. In the balancing market, the imbalance of the electricity generation a nd consumption is fixed with \\nhigh commissions. This design project focuses on players of these markets to prevent being in the balancing \\nmarket and to assist their strategies.  \\nAim of the project : (What is desired to be achieved with the design that will be  developed/suggested for the system in consideration? ) \\nThe design will provide forecasts about the upcoming movements in the markets for the players of the energy \\nmarkets. Thus, players who utilize this design may maximize their profits or minimize their l osses by making \\ninformed decisions based on the predicted market trends. This forecast -based insight offers a clear advantage, \\nallowing stakeholders to optimize their market positions and react proactively to potential market shifts. In \\naddition, the desig n helps the players to decide their current and short -term strategies. These strategies consist \\nof buying, selling, or waiting for the right times based on the forecasted data times.  \\nStakeholders who will use the design : (Introduction of the individuals or  groups that will be affected positively or negatively \\nby the solution to be suggested by the design project and explaining how they can affect the solution or be affected by it. ) \\nPower plants, wholesale companies, and retail companies are the stakeholders  of the energy markets. Power \\nplants generate electricity. They can buy or sell in energy markets. Wholesale companies provide transferring \\nthe energy from producers to consumers in large amounts. They can buy or sell in energy markets. Retail \\ncompanies bu y the energy from wholesale companies to supply the energy to end -customers. They can buy or \\nsell in energy markets. All of the stakeholders can affected positively. They may increase their profit by \\nselling high prices or buying low prices to sell high pr ices. In addition, they may decrease their losses'),\n",
       " Document(metadata={'source': 'Thesis_Premise.pdf', 'page': 1}, page_content=\"Industrial Engineering Design  \\nProject Information Form  \\naccording to the design's forecast. To give an example, if the design suggests that prices go down, \\nstakeholders can sell that price to minimize their potential losses.  \\nThe needs that will be met by the des ign and the requirements of the design : (Explanation of which business and \\nstakeholder needs will be met by the proposed solution as a result of the design project and defining the basic features expe cted in the \\ndeveloped design in accordance with the need s) \\nAs a result of this design project, power plants, wholesale companies, and retail companies have an insight \\ninto what will possibly happen in the intra -day market. Thus, they develop their short -term strategy according \\nto increase their profit, or minim ize their losses. Additionally, some power plants may not generate the \\nelectricity if they find the future price is cheaper than the generation expenditures. They could buy electricity \\nfrom the market and provide that electricity to other companies.  \\nSome basic features of the design projects will be explained. A dashboard that shows the predictions of the \\nprices. It has graphs and charts. Thus, business and stakeholders can see current status and the future to study \\nthe strategy. They make comments ab out what can happen in the future. Price alerts for predictions are the \\nalerts that inform business and stakeholders to desired price levels are surpassed or fell behind. An export \\nsystem for the predictions and visualization is a need for business. Thus, they may download the results, or \\nshare the results with colleagues. In addition, they may manipulate the result in most popular file types \\nincluding .xlsx, .pdf, and .csv.  \\nFundamental system requirements of the design : (Defining the basic functions and fe atures expected in the developed design \\nin accordance with the needs defined above ) \\nMachine learning models work in the background to make the predictions. To make visualization, python \\nlibraries, including matplotlib, and seaborn, for interactive plots an d graphs are required. For the dashboard, \\ngraphical user interface (GUI) python libraries and Microsoft’s dashboard development tool Power BI are \\nrequired. To notify users about price alerts or provide price forecasts for energy markets they have an intere st, \\npython libraries that can send notifications or information mail to users. For maintaining the same \\nenvironment on multiple computers, docker microservice is a requirement. For a machine learning system to \\nwork with data flows for getting data, trainin g models and prediction our system requires an Airflow \\nmicroservice is a requirement. To export, python libraries that convert the data to pdf, reportlab library is \\nused. For manipulating the data in Excel, pandas, and polars python libraries may be utiliz ed. \\nConstraints that guide the design : (What constraints does the design operate under? For example, accessibility, aesthetics, codes, \\nconstructability, cost, ergonomics, extensibility, functionality, interoperability, legal considerations, sustainability,  manufacturability, \\nmarketability, policy, regulations, schedule, standards, sustainability or usability. )\"),\n",
       " Document(metadata={'source': 'Thesis_Premise.pdf', 'page': 2}, page_content=\"Industrial Engineering Design  \\nProject Information Form  \\n● Accuracy and Reliability: The predictions made by the tool need to be as accurate as possible since \\nthey directly influence financial decisions. Ensu ring the use of advanced and reliable forecasting \\nalgorithms is crucial.  \\n● Real-Time Data Processing: The energy market is dynamic, and prices can fluctuate rapidly. Our \\nsolutions design should be capable of processing real -time data to provide the most curr ent insights.  \\n● User Accessibility and Usability: The dashboard that solutions insights presented should be user -\\nfriendly, with intuitive navigation and clear visualizations, making it accessible to a broad range of \\nusers, regardless of their technical exper tise. \\n● Data Security and Privacy: Handling and distributing our market data and forecasted data requires \\nrobust security measures to protect against unauthorized access and data breaches. Compliance with \\ndata protection regulations is must.  \\n● Interoperability : Your system should be compatible with existing market systems and technologies to \\nensure seamless integration and data exchange.  \\n● Scalability and Flexibility: The design should be scalable to accommodate growing amounts of data \\nand flexible enough to adapt to changing market conditions or regulations.  \\n● Computation cost: Development of models for our solution requires computation cost and development \\nprocess should consider computers hardware power (mainly CPU and GPU).  \\n● Regulatory Compliance: Adherence to national and international regulations governing energy markets \\nis crucial to ensure legal compliance.  \\n● Sustainability: Consideration of environmental impacts, especially if the tool's recommendations might \\ninfluence energy production methods.  \\n● Customization and Extensibility: The ability for users to customize certain aspects of the tool to fit their \\nspecific needs and for the system to be extensible for future enhancements.  \\n● Ethical Considerations: This solution will be a more accessible model for stakeholders at energy \\nmarket, which will prevent monopolization of the market by overcoming the competition caused by \\ntechnological differences between companies.\"),\n",
       " Document(metadata={'source': 'Thesis_Premise.pdf', 'page': 3}, page_content='Industrial Engineering Design  \\nProject Information Form  \\nIndustrial enginee ring techniques used in the design accompanied with the reasons and justifications of their \\nuse: (Explaining which industrial engineering techniques to be used at different stages of the design project and explaining why th ey \\nwere preferred based on eviden ce from the related literature. ) \\n1. Data Analytics and Machine Learning:  \\nUse: For analyzing historical data and developing predictive models.  \\nJustification : Machine learning algorithms, like neural networks and regression models, are proven in \\naccurately p redicting market trends based on historical data. In our system we are going to use regression \\nmodels.  \\nEvidence : Numerous studies in energy economics utilize these techniques for their ability to handle large \\ndatasets and uncover patterns that traditional statistical methods might miss. A comprehensive review of the \\nliterature in energy economics and finance emphasizes the increasing opportunities for innovative research with \\nmachine learning (ML). This includes applications in areas such as energy price pr ediction, demand forecasting, \\nrisk management, trading strategies, data processing, and macro/energy trend analysis. Popular techniques in \\nthis field include Support Vector Machine (SVM), Artificial Neural Network (ANN), and Genetic Algorithms \\n(GAs), as de tailed in \"Machine learning in energy economics and finance: A review\"  \\n(Ghoddusi, Creamer, & Rafizadeh, 2019)  \\nReference: Ghoddusi, H., Creamer, G. G., & Rafizadeh, N. (2019). Machine learning in energy economics \\nand finance: A review. Energy Economics, 81,  709-727. \\n2. Systems Engineering:  \\nUse: In the overall design and integration of the forecasting tool.  \\nJustification : Systems engineering ensures all components of the project (data collection, processing, user \\ninterface) work seamlessly together.  \\nEvidence : The rapid increase in the development of Machine Learning (ML) systems in the industry has \\nhighlighted distinct challenges in the software engineering (SE) processes for these systems. These challenges \\nare notably different from those in traditional syste ms and encompass activities like problem understanding, \\ndata handling, and model building.(Nascimento et al., 2019)  \\nReference: E. d. S. Nascimento, I. Ahmed, E. Oliveira, M. P. Palheta, I. Steinmacher and T. Conte, \\n\"Understanding Development Process of Mac hine Learning Systems: Challenges and Solutions,\" 2019'),\n",
       " Document(metadata={'source': 'Thesis_Premise.pdf', 'page': 4}, page_content=\"Industrial Engineering Design  \\nProject Information Form  \\nACM/IEEE International Symposium on Empirical Software Engineering and Measurement (ESEM) , Porto \\nde Galinhas, Brazil, 2019, pp. 1 -6, doi: 10.1109/ESEM.2019.8870157.  \\n3. Strategy Planning:  \\nUse: Strategy planning is crucial in the initial stages of the project for defining objectives, identifying resources, \\nand setting timelines. It is also vital in later stages for adapting to changes and evaluating progress.  \\nJustification : Strategic planning in industrial engineering involves setting goals, analyzing the competitive \\nenvironment, and assessing internal organizational capabilities. It is crucial for aligning the project's objectives \\nwith market needs and organizational capabil ities. For our project Strategy Planning ensures that our project is \\nremains focused and adaptable.  \\nEvidence : In the context of energy markets, a study by Bunn and Martoccia (2005) demonstrates the application \\nof strategic planning in electricity trading. They show how strategic planning helps companies in forecasting \\nprices more accurately and making informed trading decisions.  \\nReference : Bunn, D.W., & Martoccia, M. (2005). Unilateral and joint ventures in electricity trading: A \\nstrategic analysis. Energy  Economics, 27(3), 423 -443. \\nGeneration and evaluation of solution alternatives in the design: (Explaining what alternative solutions will be, how they \\nwill be produced, and how they will be evaluated according to the requirements, risks and ethical princip les. The solution alternatives \\nmight be using alternative methods or offering alternative industrial engineering designs. ) \\n1.Generation of Solution Alternatives  \\n● Different Predictive Models: It is in the realm of possibility to explore various predictive mo dels such \\nas linear regression, time -series analysis, machine learning algorithms (like Random Forest or any \\ndecision tree based models and even Neural Networks), and ensemble methods. Each model offers \\ndifferent strengths and weaknesses in terms of accura cy, complexity, computation time ,and data \\nrequirements.  \\n● User Interface Designs: Alternatives in user interface design can range from simple, straightforward \\ndashboards to more complex, interactive platforms. Each design could offer different levels of use r \\nengagement and information processing. For this utilizing different frameworks and templates are \\nplausible( Laravel , React.js , Power BI , Django )\"),\n",
       " Document(metadata={'source': 'Thesis_Premise.pdf', 'page': 5}, page_content='Industrial Engineering Design  \\nProject Information Form  \\n● Data Source Variability: Considering different data sources such as historical pricing, weather \\npatterns, and energy usage trends, it is possible to generate solutions that utilize diverse data sets, \\npotentially improving prediction accuracy. Data sources could be increased for ac hieving lower error.  \\n● Scalability Options: Solutions could vary in their scalability, from small -scale models suitable for \\nindividual companies to large -scale systems designed for market operators. For example Neural \\nNetworks models requires higher amount o f data but also requires higher system resources(CPU, GPU) \\nand in result takes more time.  \\n2. Methods of Producing Alternatives  \\n● Literature Review and Benchmarking : Researching existing solutions and best practices in the field \\nto understand what has been succe ssful and why. Especially studying different regression models has \\npotential to increasing our models predictive power.  \\n● Brainstorming Sessions : Engaging with experts, stakeholders, and peers in brainstorming sessions to \\ngenerate creative and diverse soluti ons. Reaching out to experts on energy market price forecast experts \\ncould be helpful.  \\n● Technological Feasibility Studies : Assessing new and emerging technologies to understand their \\npotential application in your project. Due to accelerated development of t echnologies, following \\nmodern technology trends in Machine Learning field is a must.  \\n3. Evaluation Methods & Criteria  \\nCriterias of Evaluation:  \\n● Accuracy and Reliability: How well does each solution predict market prices? Utilizing error metrics \\nsuch as MSE, RMSE,MAPE etc.'),\n",
       " Document(metadata={'source': 'Thesis_Premise.pdf', 'page': 6}, page_content='Industrial Engineering Design  \\nProject Information Form  \\n● Cost and Resource Efficiency: What are the development and operational costs associated with each \\nsolution? For example; supple menting our dataset with priced APIs would increase costs.  \\n● Scalability: Can the solution be scaled up or down based on user needs? How should we serve our \\nforecasts to customers. Answer is varied because serving it to 10 customer and serving it to 1000 \\ncustomer is different.  \\n● Ethical Considerations: Does the solution promote ethical behavior in the market and avoid facilitating \\nspeculative or manipulative practices? Solution should not promote speculative behaviour on behalf of \\ntheir users against other user s in system, especially in Turkey’s Energy Market’s integrity should not \\ndisturbed by solution.  \\nMethods of Evaluation:  \\n● Simulation and Testing: Running simulations to test the performance of each solution under various \\nscenarios.  \\n● Cost-Benefit Analysis: Asse ssing the economic feasibility of each solution.  \\n● Stakeholder Feedback: Gathering input from potential users and other stakeholders to evaluate usability \\nand practicality.  \\n● Ethical Review: Assessing each solution against ethical guidelines and principles rel evant to the energy \\nmarket.  \\nPossible economic, social and environmental gains that the solution generated in the design can provide: (Can \\nbe evaluated in accordance with the Sustainable Development Goals. ) \\n1. Economic Gains :  \\n1.1 Increased Efficiency in Energy Markets (SDG 8: Decent Work and Economic Growth):  \\n● With providing accurate electricity price forecasts, our solution can enhance market efficiency, leading \\nto more rational and cost -effective energy trading.  \\n● This increased eff iciency could translate into better financial performance for stakeholders in the \\nenergy sector, contributing to the overall economic growth.  \\n1.2 Cost Savings for Energy Providers and Consumers (SDG 7: Affordable and Clean Energy):  \\n● Efficient energy pricing can  reduce operational costs for energy providers and lower prices for \\nconsumers.  \\n● Improving market predictions can help energy providers to optimize their production, thereby saving \\ncosts. (Without needing to make transactions in the Balancing Market)  \\n2. Social Gains:'),\n",
       " Document(metadata={'source': 'Thesis_Premise.pdf', 'page': 7}, page_content='Industrial Engineering Design  \\nProject Information Form  \\n2.1 Enhanced Market Transparency (SDG 16: Peace, Justice, and Strong Institutions):  \\n● Accurate and accessible price forecasting contributes to transparency in energy markets, which could \\nbuild trust among stakeholders and has potential to reduce the likel ihood of unfair trading practices. \\nWith more stakeholders could access to our solution due to increased accessibility , there will be less \\nunfair trading practices and more fair pricing of energy.  \\n3. Environmental Gains:  \\n3.1 Reducing Energy Waste (SDG 12: Respons ible Consumption and Production):  \\n● Efficient market forecasting can minimize energy waste by ensuring energy is produced and used more \\neffectively, aligning energy production more closely with actual demand. With better forecasted prices \\nthere will be less market transactions in the Balancing Market(BM) and with lessened actions in BM \\nstate does not require unplanned electricity production from carbon based power plants.'),\n",
       " Document(metadata={'source': 'Thesis_Premise.pdf', 'page': 8}, page_content='Industrial Engineering Design  \\nProject Information Form  \\nPlease  select  to which  of the following fields, determined by the Institute of Industrial and Systems  \\nEngineering, your design project is related (see IISE Body of Knowledge : https://www.iise.or g/details.aspx?id=43631 ) \\n☐ Work Design and Measurement  \\n☐ Operations Research and Analysis  \\n☐ Engineering Economic Analysis  \\n☒ Facilities Engineering and Energy Management  \\n☐ Quality and Reliability  Engineering  \\n☐ Ergonomics and Human Factors ☒ \\nOperations Engineering and Management  \\n☐ Supply Chain Management  \\n☐ Engineering Management \\n☐ Safety  \\n☒ Information Engineering  \\n☐ Design and Manufacturing Engineering  \\n☐ Product Design and Development  \\n☒ System Design and Engineering  \\nPlease indicate to which of the following END -coded courses available in your curriculum your design project \\nis DIRECTLY related:  \\n☐ Introduction to Industrial Engineering and Ethics  \\n☐ Introduction to Manufacturing Systems  \\n☐ Data Management in Industrial Systems  \\n☐ System Thinking and Analysis  \\n☐ Theory of Probability  \\n☐ Ergonomics  \\n☐ Statistics  \\n☐ Operations Research I  \\n☒ Industrial Engineer ing Applications in Python  \\n☐ Work Analysis and Design  \\n☐ Production Planning and Control  \\n☐ Operations Research II ☒ \\nData Analytics for Business  \\n☐ Engineering Economics  \\n☐ System Simulation  \\n☐ Quality Engineering  \\n☐ Integrated Manufacturing Systems  \\n☐ Management  and Organization  \\n☐ Human Resource Management  \\n☒ Other (Please specify the selected elective courses): Energy Markets & Optimization'),\n",
       " Document(metadata={'source': 'Thesis_Premise.pdf', 'page': 9}, page_content='Members of the Project Group   Supervisor  \\nName -Sur \\nname  Emre Bozok  Name -Sur \\nname  Ahmet Şeref Okay  Name -Sur \\nname  Hüseyin Kutay Tinç  \\nSignature   Signature   Signature')]"
      ]
     },
     "execution_count": 2,
     "metadata": {},
     "output_type": "execute_result"
    }
   ],
   "source": [
    "from langchain_community.document_loaders import PyPDFLoader\n",
    "from langchain.prompts import PromptTemplate\n",
    "from langchain_core.output_parsers import StrOutputParser\n",
    "\n",
    "parser = StrOutputParser()\n",
    "\n",
    "loader = PyPDFLoader('Thesis_Premise.pdf')\n",
    "document_contents = loader.load_and_split()\n",
    "pages = loader.load_and_split()\n",
    "pages"
   ]
  },
  {
   "cell_type": "code",
   "execution_count": 3,
   "id": "cbf7609b",
   "metadata": {},
   "outputs": [
    {
     "data": {
      "text/plain": [
       "\"\\nAnswer the question based on the context based below. If you can't \\nanswer the question, reply 'Sorry, I don't know'.\\n\\nContext: Here is some context\\n\\nQuestion: Here is a question\\n\""
      ]
     },
     "execution_count": 3,
     "metadata": {},
     "output_type": "execute_result"
    }
   ],
   "source": [
    "template = \"\"\"\n",
    "Answer the question based on the context based below. If you can't \n",
    "answer the question, reply 'Sorry, I don't know'.\n",
    "\n",
    "Context: {context}\n",
    "\n",
    "Question: {question}\n",
    "\"\"\"\n",
    "prompt = PromptTemplate.from_template(template)\n",
    "prompt.format(context= 'Here is some context', question = \"Here is a question\")\n",
    "\n"
   ]
  },
  {
   "cell_type": "code",
   "execution_count": 4,
   "id": "f00047ae",
   "metadata": {},
   "outputs": [],
   "source": [
    "chain2 = prompt | model | parser"
   ]
  },
  {
   "cell_type": "code",
   "execution_count": 10,
   "id": "e7523d0b",
   "metadata": {},
   "outputs": [],
   "source": [
    "from langchain_community.vectorstores import DocArrayInMemorySearch\n",
    "\n",
    "vectorstore = DocArrayInMemorySearch.from_documents(pages, embedding=embeddings)"
   ]
  },
  {
   "cell_type": "code",
   "execution_count": 11,
   "id": "4ca302cb",
   "metadata": {},
   "outputs": [
    {
     "data": {
      "text/plain": [
       "[Document(metadata={'source': 'Thesis_Premise.pdf', 'page': 4}, page_content=\"Industrial Engineering Design  \\nProject Information Form  \\nACM/IEEE International Symposium on Empirical Software Engineering and Measurement (ESEM) , Porto \\nde Galinhas, Brazil, 2019, pp. 1 -6, doi: 10.1109/ESEM.2019.8870157.  \\n3. Strategy Planning:  \\nUse: Strategy planning is crucial in the initial stages of the project for defining objectives, identifying resources, \\nand setting timelines. It is also vital in later stages for adapting to changes and evaluating progress.  \\nJustification : Strategic planning in industrial engineering involves setting goals, analyzing the competitive \\nenvironment, and assessing internal organizational capabilities. It is crucial for aligning the project's objectives \\nwith market needs and organizational capabil ities. For our project Strategy Planning ensures that our project is \\nremains focused and adaptable.  \\nEvidence : In the context of energy markets, a study by Bunn and Martoccia (2005) demonstrates the application \\nof strategic planning in electricity trading. They show how strategic planning helps companies in forecasting \\nprices more accurately and making informed trading decisions.  \\nReference : Bunn, D.W., & Martoccia, M. (2005). Unilateral and joint ventures in electricity trading: A \\nstrategic analysis. Energy  Economics, 27(3), 423 -443. \\nGeneration and evaluation of solution alternatives in the design: (Explaining what alternative solutions will be, how they \\nwill be produced, and how they will be evaluated according to the requirements, risks and ethical princip les. The solution alternatives \\nmight be using alternative methods or offering alternative industrial engineering designs. ) \\n1.Generation of Solution Alternatives  \\n● Different Predictive Models: It is in the realm of possibility to explore various predictive mo dels such \\nas linear regression, time -series analysis, machine learning algorithms (like Random Forest or any \\ndecision tree based models and even Neural Networks), and ensemble methods. Each model offers \\ndifferent strengths and weaknesses in terms of accura cy, complexity, computation time ,and data \\nrequirements.  \\n● User Interface Designs: Alternatives in user interface design can range from simple, straightforward \\ndashboards to more complex, interactive platforms. Each design could offer different levels of use r \\nengagement and information processing. For this utilizing different frameworks and templates are \\nplausible( Laravel , React.js , Power BI , Django )\"),\n",
       " Document(metadata={'source': 'Thesis_Premise.pdf', 'page': 1}, page_content=\"Industrial Engineering Design  \\nProject Information Form  \\naccording to the design's forecast. To give an example, if the design suggests that prices go down, \\nstakeholders can sell that price to minimize their potential losses.  \\nThe needs that will be met by the des ign and the requirements of the design : (Explanation of which business and \\nstakeholder needs will be met by the proposed solution as a result of the design project and defining the basic features expe cted in the \\ndeveloped design in accordance with the need s) \\nAs a result of this design project, power plants, wholesale companies, and retail companies have an insight \\ninto what will possibly happen in the intra -day market. Thus, they develop their short -term strategy according \\nto increase their profit, or minim ize their losses. Additionally, some power plants may not generate the \\nelectricity if they find the future price is cheaper than the generation expenditures. They could buy electricity \\nfrom the market and provide that electricity to other companies.  \\nSome basic features of the design projects will be explained. A dashboard that shows the predictions of the \\nprices. It has graphs and charts. Thus, business and stakeholders can see current status and the future to study \\nthe strategy. They make comments ab out what can happen in the future. Price alerts for predictions are the \\nalerts that inform business and stakeholders to desired price levels are surpassed or fell behind. An export \\nsystem for the predictions and visualization is a need for business. Thus, they may download the results, or \\nshare the results with colleagues. In addition, they may manipulate the result in most popular file types \\nincluding .xlsx, .pdf, and .csv.  \\nFundamental system requirements of the design : (Defining the basic functions and fe atures expected in the developed design \\nin accordance with the needs defined above ) \\nMachine learning models work in the background to make the predictions. To make visualization, python \\nlibraries, including matplotlib, and seaborn, for interactive plots an d graphs are required. For the dashboard, \\ngraphical user interface (GUI) python libraries and Microsoft’s dashboard development tool Power BI are \\nrequired. To notify users about price alerts or provide price forecasts for energy markets they have an intere st, \\npython libraries that can send notifications or information mail to users. For maintaining the same \\nenvironment on multiple computers, docker microservice is a requirement. For a machine learning system to \\nwork with data flows for getting data, trainin g models and prediction our system requires an Airflow \\nmicroservice is a requirement. To export, python libraries that convert the data to pdf, reportlab library is \\nused. For manipulating the data in Excel, pandas, and polars python libraries may be utiliz ed. \\nConstraints that guide the design : (What constraints does the design operate under? For example, accessibility, aesthetics, codes, \\nconstructability, cost, ergonomics, extensibility, functionality, interoperability, legal considerations, sustainability,  manufacturability, \\nmarketability, policy, regulations, schedule, standards, sustainability or usability. )\"),\n",
       " Document(metadata={'source': 'Thesis_Premise.pdf', 'page': 5}, page_content='Industrial Engineering Design  \\nProject Information Form  \\n● Data Source Variability: Considering different data sources such as historical pricing, weather \\npatterns, and energy usage trends, it is possible to generate solutions that utilize diverse data sets, \\npotentially improving prediction accuracy. Data sources could be increased for ac hieving lower error.  \\n● Scalability Options: Solutions could vary in their scalability, from small -scale models suitable for \\nindividual companies to large -scale systems designed for market operators. For example Neural \\nNetworks models requires higher amount o f data but also requires higher system resources(CPU, GPU) \\nand in result takes more time.  \\n2. Methods of Producing Alternatives  \\n● Literature Review and Benchmarking : Researching existing solutions and best practices in the field \\nto understand what has been succe ssful and why. Especially studying different regression models has \\npotential to increasing our models predictive power.  \\n● Brainstorming Sessions : Engaging with experts, stakeholders, and peers in brainstorming sessions to \\ngenerate creative and diverse soluti ons. Reaching out to experts on energy market price forecast experts \\ncould be helpful.  \\n● Technological Feasibility Studies : Assessing new and emerging technologies to understand their \\npotential application in your project. Due to accelerated development of t echnologies, following \\nmodern technology trends in Machine Learning field is a must.  \\n3. Evaluation Methods & Criteria  \\nCriterias of Evaluation:  \\n● Accuracy and Reliability: How well does each solution predict market prices? Utilizing error metrics \\nsuch as MSE, RMSE,MAPE etc.'),\n",
       " Document(metadata={'source': 'Thesis_Premise.pdf', 'page': 2}, page_content=\"Industrial Engineering Design  \\nProject Information Form  \\n● Accuracy and Reliability: The predictions made by the tool need to be as accurate as possible since \\nthey directly influence financial decisions. Ensu ring the use of advanced and reliable forecasting \\nalgorithms is crucial.  \\n● Real-Time Data Processing: The energy market is dynamic, and prices can fluctuate rapidly. Our \\nsolutions design should be capable of processing real -time data to provide the most curr ent insights.  \\n● User Accessibility and Usability: The dashboard that solutions insights presented should be user -\\nfriendly, with intuitive navigation and clear visualizations, making it accessible to a broad range of \\nusers, regardless of their technical exper tise. \\n● Data Security and Privacy: Handling and distributing our market data and forecasted data requires \\nrobust security measures to protect against unauthorized access and data breaches. Compliance with \\ndata protection regulations is must.  \\n● Interoperability : Your system should be compatible with existing market systems and technologies to \\nensure seamless integration and data exchange.  \\n● Scalability and Flexibility: The design should be scalable to accommodate growing amounts of data \\nand flexible enough to adapt to changing market conditions or regulations.  \\n● Computation cost: Development of models for our solution requires computation cost and development \\nprocess should consider computers hardware power (mainly CPU and GPU).  \\n● Regulatory Compliance: Adherence to national and international regulations governing energy markets \\nis crucial to ensure legal compliance.  \\n● Sustainability: Consideration of environmental impacts, especially if the tool's recommendations might \\ninfluence energy production methods.  \\n● Customization and Extensibility: The ability for users to customize certain aspects of the tool to fit their \\nspecific needs and for the system to be extensible for future enhancements.  \\n● Ethical Considerations: This solution will be a more accessible model for stakeholders at energy \\nmarket, which will prevent monopolization of the market by overcoming the competition caused by \\ntechnological differences between companies.\")]"
      ]
     },
     "execution_count": 11,
     "metadata": {},
     "output_type": "execute_result"
    }
   ],
   "source": [
    "retriever = vectorstore.as_retriever()\n",
    "retriever.invoke(\"what are the Methods of Evaluation? like simulation and testing:\")"
   ]
  },
  {
   "cell_type": "code",
   "execution_count": 12,
   "id": "6034dc45",
   "metadata": {},
   "outputs": [],
   "source": [
    "from operator import itemgetter\n",
    "\n",
    "chain2 = (\n",
    "    {\n",
    "        \"context\": itemgetter(\"question\") | retriever,\n",
    "        \"question\": itemgetter(\"question\"),\n",
    "    }\n",
    "    | prompt\n",
    "    | model\n",
    "    | parser\n",
    ")"
   ]
  },
  {
   "cell_type": "code",
   "execution_count": 76,
   "id": "2ee04ff8",
   "metadata": {},
   "outputs": [],
   "source": [
    "question  = 'Can you list me Methods of Producing Alternatives'"
   ]
  },
  {
   "cell_type": "code",
   "execution_count": 77,
   "id": "6cfd5b41",
   "metadata": {},
   "outputs": [
    {
     "name": "stdout",
     "output_type": "stream",
     "text": [
      "Based on the context provided, the methods of producing alternatives are:\n",
      "\n",
      "1. Literature Review and Benchmarking: Researching existing solutions and best practices in the field to understand what has been successful and why.\n",
      "2. Brainstorming Sessions: Engaging with experts, stakeholders, and peers in brainstorming sessions to generate creative and diverse solutions.\n",
      "3. Technological Feasibility Studies: Assessing new and emerging technologies to understand their potential application in your project.\n",
      "\n",
      "Please note that these are the methods mentioned in the provided context. If there is more information available or if you would like me to clarify any of these points, please let me know!\n"
     ]
    }
   ],
   "source": [
    "print(chain2.invoke({'question': question}))"
   ]
  },
  {
   "cell_type": "code",
   "execution_count": 88,
   "id": "54db52fa",
   "metadata": {},
   "outputs": [],
   "source": [
    "loader = PyPDFLoader('Thesis_Premise.pdf')\n",
    "pages = loader.load_and_split()\n",
    "\n",
    "# Initialize embeddings and model\n",
    "embeddings = OllamaEmbeddings(model='llama3')\n",
    "model = Ollama(model='llama3', num_ctx=9000, base_url='http://localhost:11434')\n",
    "parser = StrOutputParser()\n",
    "\n",
    "# Create Vector Store from documents\n",
    "vectorstore = DocArrayInMemorySearch.from_documents(pages, embedding=embeddings)\n",
    "\n",
    "# Create a retriever from the vector store\n",
    "retriever = vectorstore.as_retriever()\n",
    "\n",
    "# Define the RAG Prompt Template\n",
    "template = \"\"\"\n",
    "Answer the question based on the context below. If you can't \n",
    "answer the question, reply 'Sorry, I don't know'.\n",
    "\n",
    "Context: {context}\n",
    "\n",
    "Question: {question}\n",
    "\"\"\"\n",
    "rag_prompt = PromptTemplate.from_template(template)\n",
    "\n",
    "# Merge RAG with the chatbot\n",
    "prompt_template = ChatPromptTemplate.from_messages(\n",
    "    [\n",
    "        ('system', 'You are an AI named okaygpt and you are working for Mercedes Benz Buses and Truck'),\n",
    "        MessagesPlaceholder(variable_name='chat_history'),\n",
    "        ('human', '{input}'),\n",
    "    ]\n",
    ")\n",
    "\n",
    "def start_app():\n",
    "    message_count = 0\n",
    "    max_message = 3\n",
    "    while message_count <= max_message:\n",
    "        question = input('You: ')\n",
    "        print(f'User: {question}\\n')\n",
    "\n",
    "        if question.lower() == 'done':\n",
    "            print('Session ended.')\n",
    "            break\n",
    "        \n",
    "        # Retrieve context from documents\n",
    "        context = retriever.invoke(question)\n",
    "\n",
    "        # Format the RAG prompt\n",
    "        formatted_prompt = rag_prompt.format(context=context, question=question)\n",
    "\n",
    "        # Get response from the chain\n",
    "        response = (formatted_prompt | model | parser).invoke()\n",
    "        \n",
    "        chat_history.append(HumanMessage(content=question))\n",
    "        chat_history.append(AIMessage(content=response))\n",
    "        \n",
    "        print('AI:', response)\n",
    "        message_count += 1\n",
    "    \n",
    "    print('AI terminated itself!')\n",
    "\n"
   ]
  },
  {
   "cell_type": "code",
   "execution_count": null,
   "id": "55923e52",
   "metadata": {},
   "outputs": [],
   "source": [
    "'Can you list me Methods of Producing Alternatives'"
   ]
  },
  {
   "cell_type": "code",
   "execution_count": 6,
   "id": "00b4a83f",
   "metadata": {},
   "outputs": [],
   "source": [
    "from langchain.document_loaders import PyPDFLoader\n",
    "from langchain.embeddings import OllamaEmbeddings\n",
    "from langchain.llms import Ollama\n",
    "from langchain.vectorstores import DocArrayInMemorySearch\n",
    "from langchain.prompts import PromptTemplate, ChatPromptTemplate, MessagesPlaceholder\n",
    "from langchain.schema import HumanMessage, AIMessage\n",
    "from langchain_core.output_parsers import StrOutputParser\n",
    "from langchain.memory import ConversationBufferMemory\n",
    "from langchain.chains import ConversationalRetrievalChain\n",
    "from langchain_text_splitters import RecursiveCharacterTextSplitter\n",
    "from langchain_chroma import Chroma"
   ]
  },
  {
   "cell_type": "code",
   "execution_count": 3,
   "id": "246b54dc",
   "metadata": {},
   "outputs": [
    {
     "name": "stderr",
     "output_type": "stream",
     "text": [
      "c:\\Users\\ahmet\\Desktop\\AI-TRIES\\venv\\lib\\site-packages\\pydantic\\_migration.py:283: UserWarning: `pydantic.error_wrappers:ValidationError` has been moved to `pydantic:ValidationError`.\n",
      "  warnings.warn(f'`{import_path}` has been moved to `{new_location}`.')\n"
     ]
    }
   ],
   "source": [
    "loader = PyPDFLoader('Thesis_Premise.pdf')\n",
    "pages = loader.load_and_split()\n",
    "\n",
    "# Initialize embeddings and model\n",
    "embeddings = OllamaEmbeddings(model='llama3')\n",
    "model = Ollama(model='llama3', num_ctx=9000, base_url='http://localhost:11434')\n",
    "parser = StrOutputParser()\n",
    "docs = loader.load()\n",
    "text_splitter = RecursiveCharacterTextSplitter(\n",
    "    chunk_size=1000, chunk_overlap=200, add_start_index=True\n",
    ")\n",
    "all_splits = text_splitter.split_documents(docs)\n",
    "# Create Vector Store from documents\n",
    "vectorstore = DocArrayInMemorySearch.from_documents(all_splits, embedding=embeddings)\n",
    "# DocArrayInMemorySearch.from_documents(all_splits, embedding=embeddings)\n",
    "# Create a retriever from the vector store\n",
    "retriever = vectorstore.as_retriever()\n"
   ]
  },
  {
   "cell_type": "code",
   "execution_count": 9,
   "id": "bdf6cddf",
   "metadata": {},
   "outputs": [],
   "source": [
    "template = \"\"\"\n",
    "You are an AI named okaygpt and you are working for Mercedes Benz Buses and Truck.\n",
    "Answer the question based on the context below and the chat history. If you can't \n",
    "answer the question based on the given information, reply 'Sorry, I don't know'.\n",
    "\n",
    "Context: {context}\n",
    "\n",
    "Chat History: {chat_history}\n",
    "\n",
    "Question: {question}\n",
    "\n",
    "Answer:\n",
    "\"\"\"\n",
    "\n",
    "rag_prompt = PromptTemplate.from_template(template)\n",
    "\n",
    "# Initialize conversation memory\n",
    "memory = ConversationBufferMemory(\n",
    "    memory_key=\"chat_history\",\n",
    "    return_messages=True\n",
    ")\n",
    "\n",
    "qa_chain = ConversationalRetrievalChain.from_llm(\n",
    "    llm=model,\n",
    "    retriever=retriever,\n",
    "    memory=memory,\n",
    "    combine_docs_chain_kwargs={\"prompt\": rag_prompt}\n",
    ")\n",
    "\n",
    "def start_app():\n",
    "    message_count = 0\n",
    "    max_message = 3\n",
    "    while message_count <= max_message:\n",
    "        question = input('You: ')\n",
    "        print(f'User: {question}\\n')\n",
    "\n",
    "        if question.lower() == 'done':\n",
    "            print('Session ended.')\n",
    "            break\n",
    "        \n",
    "        # Get response from the chain\n",
    "        response = qa_chain({\"question\": question})\n",
    "        \n",
    "        print('AI:', response['answer'])\n",
    "        message_count += 1\n",
    "    \n",
    "    print('AI terminated itself!')"
   ]
  },
  {
   "cell_type": "code",
   "execution_count": 10,
   "id": "ae1de713",
   "metadata": {},
   "outputs": [
    {
     "name": "stdout",
     "output_type": "stream",
     "text": [
      "User: can you explain this : The needs that will be met by the design and the requirements of the design\n",
      "\n",
      "AI: As okaygpt, I'd be happy to help explain!\n",
      "\n",
      "The design project aims to provide forecasts about the upcoming movements in the energy markets for the stakeholders (power plants, wholesale companies, and retail companies). This forecast-based insight will enable these players to optimize their market positions, react proactively to potential market shifts, and make informed decisions about buying, selling, or waiting for the right times.\n",
      "\n",
      "The needs that will be met by this design include:\n",
      "\n",
      "* Meeting the need for timely and accurate information about energy market trends, allowing stakeholders to make informed decisions.\n",
      "* Providing a competitive advantage by offering insights into future market movements, enabling stakeholders to optimize their strategies and maximize profits or minimize losses.\n",
      "* Supporting the development of short-term and long-term strategies for energy market players.\n",
      "\n",
      "As for the requirements of the design, it seems that the project is focusing on:\n",
      "\n",
      "* Developing a system that can analyze data flows, train models, and make predictions about energy market trends.\n",
      "* Ensuring the system's extensibility, scalability, and maintainability to accommodate future changes in the energy market landscape.\n",
      "* Integrating relevant libraries and tools (such as Airflow, reportlab, pandas, and polars) to support the design's functionality.\n",
      "\n",
      "Please let me know if you'd like me to elaborate on any of these points or explore other related topics!\n",
      "User: done\n",
      "\n",
      "Session ended.\n",
      "AI terminated itself!\n"
     ]
    }
   ],
   "source": [
    "start_app()"
   ]
  },
  {
   "cell_type": "code",
   "execution_count": null,
   "id": "0693ea46",
   "metadata": {},
   "outputs": [],
   "source": []
  },
  {
   "cell_type": "code",
   "execution_count": null,
   "id": "3a43d40a",
   "metadata": {},
   "outputs": [],
   "source": []
  }
 ],
 "metadata": {
  "kernelspec": {
   "display_name": "Python 3 (ipykernel)",
   "language": "python",
   "name": "python3"
  },
  "language_info": {
   "codemirror_mode": {
    "name": "ipython",
    "version": 3
   },
   "file_extension": ".py",
   "mimetype": "text/x-python",
   "name": "python",
   "nbconvert_exporter": "python",
   "pygments_lexer": "ipython3",
   "version": "3.10.0"
  }
 },
 "nbformat": 4,
 "nbformat_minor": 5
}
