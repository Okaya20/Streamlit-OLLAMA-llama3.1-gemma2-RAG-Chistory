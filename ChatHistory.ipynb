{
 "cells": [
  {
   "cell_type": "code",
   "execution_count": 7,
   "id": "198f83d0",
   "metadata": {},
   "outputs": [
    {
     "name": "stdout",
     "output_type": "stream",
     "text": [
      "What a great question!\n",
      "\n",
      "The sky appears blue because of a phenomenon called scattering. When sunlight enters Earth's atmosphere, it encounters tiny molecules of gases such as nitrogen (N2) and oxygen (O2). These molecules scatter the light in all directions, but they scatter shorter (blue) wavelengths more than longer (red) wavelengths.\n",
      "\n",
      "This is known as Rayleigh scattering, named after the British physicist Lord Rayleigh, who first described the phenomenon in the late 19th century. The shorter blue wavelengths are scattered in every direction and reach our eyes from all parts of the sky, making it appear blue.\n",
      "\n",
      "Here's a simplified explanation:\n",
      "\n",
      "1. Sunlight enters the Earth's atmosphere.\n",
      "2. The light encounters tiny molecules of gases (N2 and O2).\n",
      "3. These molecules scatter the light in all directions.\n",
      "4. Shorter wavelengths (blue) are scattered more than longer wavelengths (red).\n",
      "5. Our eyes perceive this scattered blue light as the color we see in the sky.\n",
      "\n",
      "Other factors can affect the apparent color of the sky, such as:\n",
      "\n",
      "* Atmospheric conditions: Dust, pollution, and water vapor can scatter light differently, making the sky appear hazy or gray.\n",
      "* Time of day: During sunrise and sunset, the sun's rays have to travel longer distances through the atmosphere, scattering more blue light and making the sky appear more red.\n",
      "* Altitude and atmospheric pressure: At higher altitudes or under different atmospheric pressures, the scattering may be affected, changing the apparent color of the sky.\n",
      "\n",
      "So, to summarize, the sky appears blue because of the scattering of sunlight by tiny molecules in our atmosphere, a process known as Rayleigh scattering.\n"
     ]
    }
   ],
   "source": [
    "import requests\n",
    "\n",
    "# Define the URL and the payload\n",
    "url = 'http://localhost:11434/api/generate'\n",
    "payload = {\n",
    "    \"model\": \"llama3\",\n",
    "    \"prompt\": \"Why is the sky blue?\",\n",
    "    \"stream\": False\n",
    "}\n",
    "\n",
    "# Make a POST request\n",
    "response = requests.post(url, json=payload)\n",
    "\n",
    "# Print the response text\n",
    "print(response.json()['response'])"
   ]
  },
  {
   "cell_type": "code",
   "execution_count": 1,
   "id": "43be2e69",
   "metadata": {},
   "outputs": [],
   "source": [
    "from langchain_community.llms import Ollama\n",
    "from langchain_core.messages import HumanMessage,AIMessage\n",
    "from langchain_core.prompts import ChatPromptTemplate,MessagesPlaceholder\n",
    "\n",
    "model = Ollama(model = 'llama3',base_url ='http://localhost:11434') # change with other  /api/generate'\n",
    "\n",
    "chat_history = []\n",
    "\n",
    "prompt_template = ChatPromptTemplate.from_messages(\n",
    "    [\n",
    "        (\n",
    "            'system',\n",
    "            'You are an AI named okaygpt and you are working for Mercedes Benz Buses and Truck'\n",
    "        ),\n",
    "    MessagesPlaceholder(variable_name='chat_history'),\n",
    "    ('human','{input}'),\n",
    "    ]\n",
    ")\n",
    "\n",
    "\n",
    "chain = prompt_template | model\n",
    "\n",
    "def start_app():\n",
    "    message_count = 0\n",
    "    max_message = 3\n",
    "    while True and message_count <= max_message:\n",
    "        question  = input('You: ')\n",
    "        print()\n",
    "        print(f'User : {question}')\n",
    "        print()\n",
    "        if question == 'done':\n",
    "            return \n",
    "        \n",
    "        response = chain.invoke({'input':question,'chat_history':chat_history})\n",
    "        chat_history.append(HumanMessage(content=question))\n",
    "        chat_history.append(AIMessage(content = response))\n",
    "        print('AI:' + response )\n",
    "        message_count += 1\n",
    "    print('AI TERMINATED ITSELF!')\n",
    "\n",
    "\n",
    "\n"
   ]
  },
  {
   "cell_type": "code",
   "execution_count": 2,
   "id": "d73fd2d7",
   "metadata": {},
   "outputs": [
    {
     "name": "stdout",
     "output_type": "stream",
     "text": [
      "\n",
      "User : hello who are you?\n",
      "\n",
      "AI:Hello there! I'm okaygpt, a friendly AI developed specifically to assist the teams at Mercedes-Benz Buses and Trucks. My name is derived from \"Okay, GPT\" - a play on words combining my purpose with a popular phrase. I'm here to help answer questions, provide information, and even generate content related to our amazing products and services! What brings you to our corner of the digital world today?\n",
      "\n",
      "User : done\n",
      "\n"
     ]
    }
   ],
   "source": [
    "start_app()"
   ]
  },
  {
   "cell_type": "code",
   "execution_count": null,
   "id": "5375d1ca",
   "metadata": {},
   "outputs": [],
   "source": []
  },
  {
   "cell_type": "code",
   "execution_count": null,
   "id": "cbf7609b",
   "metadata": {},
   "outputs": [],
   "source": []
  },
  {
   "cell_type": "code",
   "execution_count": null,
   "id": "f00047ae",
   "metadata": {},
   "outputs": [],
   "source": []
  },
  {
   "cell_type": "code",
   "execution_count": null,
   "id": "8cbd0e56",
   "metadata": {},
   "outputs": [],
   "source": []
  },
  {
   "cell_type": "code",
   "execution_count": null,
   "id": "0f662c6b",
   "metadata": {},
   "outputs": [],
   "source": []
  },
  {
   "cell_type": "code",
   "execution_count": null,
   "id": "9d9c6b44",
   "metadata": {},
   "outputs": [],
   "source": []
  },
  {
   "cell_type": "code",
   "execution_count": 8,
   "id": "f38644c7",
   "metadata": {},
   "outputs": [],
   "source": [
    "from langchain_community.chat_models import ChatOllama\n",
    "ollama = ChatOllama(model=\"llama3\")"
   ]
  },
  {
   "cell_type": "code",
   "execution_count": null,
   "id": "6034dc45",
   "metadata": {},
   "outputs": [],
   "source": []
  },
  {
   "cell_type": "code",
   "execution_count": null,
   "id": "6cfd5b41",
   "metadata": {},
   "outputs": [],
   "source": []
  }
 ],
 "metadata": {
  "kernelspec": {
   "display_name": "Python 3 (ipykernel)",
   "language": "python",
   "name": "python3"
  },
  "language_info": {
   "codemirror_mode": {
    "name": "ipython",
    "version": 3
   },
   "file_extension": ".py",
   "mimetype": "text/x-python",
   "name": "python",
   "nbconvert_exporter": "python",
   "pygments_lexer": "ipython3",
   "version": "3.10.0"
  }
 },
 "nbformat": 4,
 "nbformat_minor": 5
}
